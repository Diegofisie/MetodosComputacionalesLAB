{
 "cells": [
  {
   "cell_type": "code",
   "execution_count": 27,
   "metadata": {
    "collapsed": false
   },
   "outputs": [],
   "source": [
    "from numpy import *\n",
    "import numpy as np"
   ]
  },
  {
   "cell_type": "code",
   "execution_count": null,
   "metadata": {
    "collapsed": true
   },
   "outputs": [],
   "source": []
  },
  {
   "cell_type": "code",
   "execution_count": 51,
   "metadata": {
    "collapsed": false
   },
   "outputs": [],
   "source": [
    "def fulladder(m1,m2):\n",
    "    suma = (m1+m2)\n",
    "    ppunto = np.dot(m1,m2)\n",
    "    inversa_b = np.linalg.inv(m2)\n",
    "    transpuesta_a = np.matrix.transpose(m1)\n",
    "    eig_valores,eig_vectores = np.linalg.eig(m2)\n",
    "    return suma,ppunto,transpuesta_a,inversa_b, str(\"los valores propios de B son:\"),eig_valores,str(\"los vectores propios son:\"), eig_vectores"
   ]
  },
  {
   "cell_type": "code",
   "execution_count": 53,
   "metadata": {
    "collapsed": false
   },
   "outputs": [
    {
     "data": {
      "text/plain": [
       "(array([[ 2,  4, 10],\n",
       "        [10, 12, 14],\n",
       "        [16, 18, 20]]), array([[ 51,  59,  69],\n",
       "        [ 91, 109, 137],\n",
       "        [133, 160, 203]]), array([[ 1,  5,  8],\n",
       "        [ 2,  6,  9],\n",
       "        [ 5,  7, 10]]), array([[ 0.5       , -4.16666667,  2.66666667],\n",
       "        [-1.        ,  5.        , -3.        ],\n",
       "        [ 0.5       , -1.16666667,  0.66666667]]), 'los valores propios de B son:', array([ 18.93710504,  -2.08879012,   0.15168508]), 'los vectores propios son:', array([[-0.28143696, -0.86470143,  0.61160017],\n",
       "        [-0.53851168,  0.11047393, -0.76489455],\n",
       "        [-0.79422819,  0.48998668,  0.20219191]]))"
      ]
     },
     "execution_count": 53,
     "metadata": {},
     "output_type": "execute_result"
    }
   ],
   "source": [
    "a = np.array([[1,2,5],[5,6,7],[8,9,10]])\n",
    "b = np.array([[2,2,5],[4,5,7],[8,9,8]])\n",
    "fulladder(a,a)"
   ]
  },
  {
   "cell_type": "code",
   "execution_count": 72,
   "metadata": {
    "collapsed": false
   },
   "outputs": [],
   "source": [
    "def sis_ecuaciones(m,v):\n",
    "    filas_m, colum_m = m.shape\n",
    "    len_v = len(v)\n",
    "    if filas_m == len_v:\n",
    "        solucion = np.linalg.solve(m,v)\n",
    "    return solucion"
   ]
  },
  {
   "cell_type": "code",
   "execution_count": 82,
   "metadata": {
    "collapsed": false
   },
   "outputs": [
    {
     "data": {
      "text/plain": [
       "array([  1.66666667e-01,  -2.53765263e-16,   1.66666667e-01])"
      ]
     },
     "execution_count": 82,
     "metadata": {},
     "output_type": "execute_result"
    }
   ],
   "source": [
    "a = np.array([[1,2,5],[5,6,7],[8,9,10]])\n",
    "b = np.array([1,2,3])\n",
    "sis_ecuaciones(a,b)"
   ]
  },
  {
   "cell_type": "code",
   "execution_count": 85,
   "metadata": {
    "collapsed": false
   },
   "outputs": [
    {
     "data": {
      "text/plain": [
       "0.96"
      ]
     },
     "execution_count": 85,
     "metadata": {},
     "output_type": "execute_result"
    }
   ],
   "source": []
  },
  {
   "cell_type": "code",
   "execution_count": null,
   "metadata": {
    "collapsed": true
   },
   "outputs": [],
   "source": []
  }
 ],
 "metadata": {
  "kernelspec": {
   "display_name": "Python 2",
   "language": "python",
   "name": "python2"
  },
  "language_info": {
   "codemirror_mode": {
    "name": "ipython",
    "version": 2
   },
   "file_extension": ".py",
   "mimetype": "text/x-python",
   "name": "python",
   "nbconvert_exporter": "python",
   "pygments_lexer": "ipython2",
   "version": "2.7.12"
  }
 },
 "nbformat": 4,
 "nbformat_minor": 0
}
