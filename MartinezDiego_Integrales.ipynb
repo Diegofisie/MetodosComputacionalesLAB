{
 "cells": [
  {
   "cell_type": "markdown",
   "metadata": {},
   "source": [
    "### Exercise 3 Integrals"
   ]
  },
  {
   "cell_type": "code",
   "execution_count": 41,
   "metadata": {},
   "outputs": [],
   "source": [
    "#Imports\n",
    "import numpy as np\n",
    "import matplotlib.pyplot as plt\n",
    "import sympy as sp\n",
    "from sympy import *\n",
    "from numpy import random"
   ]
  },
  {
   "cell_type": "code",
   "execution_count": 42,
   "metadata": {},
   "outputs": [],
   "source": [
    "#trapezoide\n",
    "#parameters, the function to integrate, lower limit, upper limit, number of trapezoids\n",
    "def trapezoids_int(function, ll, ul, numt):\n",
    "    x = np.zeros([numt + 1])\n",
    "    delta = (ul - ll)/numt\n",
    "    #lower_value\n",
    "    x[0] = ll\n",
    "    #higher_value\n",
    "    x[numt] = ul\n",
    "    #The sumatory of the trapezoids\n",
    "    sumatory = 0\n",
    "    for d in np.arange(1,numt):\n",
    "        x[d] = x[d - 1] + delta\n",
    "        sumatory = sumatory +  function(x[d])\n",
    "    #applying the trapezoids equation for integration\n",
    "    numerical_value = (delta/2)*(function(x[0]) + 2*sumatory + function(x[numt]))\n",
    "    return numerical_value\n",
    "#def prueba(x):\n",
    "#    return x**2\n",
    "#a = trapezoids_int(prueba,0,1,10001)\n",
    "#print (\"The numerical value of the integral is: \", a)  "
   ]
  },
  {
   "cell_type": "code",
   "execution_count": 43,
   "metadata": {},
   "outputs": [],
   "source": [
    "#simpson \n",
    "#parameters, the function to integrate, lower limit, upper limit, number of points\n",
    "def simpson_int(function_simp, ll, ul, nums):\n",
    "    delta = (ul-ll)/nums\n",
    "    x = np.arange(ll,ul,delta)\n",
    "    x0 = function_simp(x[0])\n",
    "    xn = function_simp(x[-1])\n",
    "    y=function_simp(x)\n",
    "    suma = delta/3.0*((x0 + xn)) + delta/3.0*np.sum(4.0*(y[1:-1:2])) +  delta/3.0*np.sum(2.0*(y[2:nums-1:2]))\n",
    "    return suma\n",
    "#def prueba(x):\n",
    "#    return np.cos(x)\n",
    "#a = simpson_int(prueba,-np.pi/2,np.pi,1000)\n",
    "#print (\"The numerical value of the integral is: \", a)  "
   ]
  },
  {
   "cell_type": "code",
   "execution_count": 44,
   "metadata": {},
   "outputs": [],
   "source": [
    "#Montcarlo\n",
    "def montcarlo_int(function, ll,ul,numm):\n",
    "    xrandom = np.zeros([numm])\n",
    "    integral = 0.0\n",
    "    for i in range (len(xrandom)):\n",
    "        xrandom[i] = np.random.uniform(ll,ul)\n",
    "    for j in range(numm):\n",
    "        integral = integral + function(xrandom[j])\n",
    "        respuesta = (ul - ll)/float(numm)*integral\n",
    "    return respuesta\n",
    "#def prueba(x):\n",
    "#     return np.cos(x)\n",
    "#a = montcarlo_int(prueba,-np.pi/2,np.pi,8999)\n",
    "#print (\"The numerical value of the integral is: \", a) "
   ]
  },
  {
   "cell_type": "code",
   "execution_count": 45,
   "metadata": {},
   "outputs": [],
   "source": [
    "#mean_value_integral\n",
    "def mean_value_int(function,ll,ul,nume):\n",
    "    x = random.random(nume) * (ul - ll) + ll\n",
    "    func_mean = function(x)\n",
    "    inte_value = np.average(func_mean)*(ul-ll)\n",
    "    return inte_value\n",
    "\n",
    "#def prueba(x):\n",
    "#    return x**2\n",
    "#a = montcarlo_int(prueba,0,1,1000111)\n",
    "#print (\"The numerical value of the integral is: \", a) "
   ]
  },
  {
   "cell_type": "markdown",
   "metadata": {},
   "source": [
    "### Punto 3A"
   ]
  },
  {
   "cell_type": "code",
   "execution_count": 46,
   "metadata": {},
   "outputs": [
    {
     "name": "stdout",
     "output_type": "stream",
     "text": [
      "Metodo: Trapezoides, el valor de la integral es: 0.9999981457418148 el error es: 1.8542581852187823e-06\n",
      "Metodo: Simpsonn, el valor de la integral es: 1.004717071102267 el error es: 0.004717071102267045\n",
      "Metodo: Monte carlo, el valor de la integral es: 1.0679044034295193 el error es 0.06790440342951931\n",
      "Metodo: Valor medio, el valor de la integral es: 1.0887310625640556 el error es 0.06790440342951931\n"
     ]
    }
   ],
   "source": [
    "def fun_punto1(x):\n",
    "    return np.cos(x)\n",
    "ll = -np.pi/2\n",
    "ul = np.pi\n",
    "n = 999\n",
    "#-------------------------\n",
    "#analítica\n",
    "int_analitica = 1\n",
    "#--------------------------#\n",
    "#Trapezoide\n",
    "t = trapezoids_int(fun_punto1,ll,ul,n)\n",
    "error_tra = abs(t-int_analitica)/int_analitica\n",
    "print(\"Metodo: Trapezoides, el valor de la integral es:\",t, \"el error es:\",error_tra)\n",
    "#--------------------------#\n",
    "# simpson\n",
    "s = simpson_int(fun_punto1,ll,ul,n)\n",
    "error_simp = abs(s-int_analitica)/int_analitica\n",
    "print(\"Metodo: Simpsonn, el valor de la integral es:\",s, \"el error es:\",error_simp)\n",
    "#--------------------------#\n",
    "#Montecarlo\n",
    "m = montcarlo_int(fun_punto1,ll,ul,n)\n",
    "error_mot = abs(m-int_analitica)/int_analitica\n",
    "print(\"Metodo: Monte carlo, el valor de la integral es:\",m, \"el error es\",error_mot)\n",
    "#--------------------------#\n",
    "#Valor medio\n",
    "vm = mean_value_int(fun_punto1,ll,ul,n)\n",
    "error_mean = abs(m-int_analitica)/int_analitica\n",
    "print(\"Metodo: Valor medio, el valor de la integral es:\",vm,\"el error es\",error_mean)"
   ]
  },
  {
   "cell_type": "markdown",
   "metadata": {
    "scrolled": true
   },
   "source": [
    "### Punto 3B"
   ]
  },
  {
   "cell_type": "code",
   "execution_count": 47,
   "metadata": {},
   "outputs": [],
   "source": [
    "#error en función del número de puntos\n",
    "Narray=np.logspace(2,7,6)\n",
    "Narray[:] = Narray[:]+1\n",
    "#analítica\n",
    "int_analitica = 1\n",
    "def fun_puntob(x):\n",
    "    return np.cos(x)\n",
    "ll = -np.pi/2\n",
    "ul = np.pi\n",
    "error_trape = np.empty(len(Narray))\n",
    "for i in range(len(Narray)):\n",
    "    trape = trapezoids_int(fun_puntob, ll, ul,int(Narray[i]))\n",
    "    error_trape[i] = 1.0*abs(trape-int_analitica)/int_analitica\n",
    "                          \n",
    "error_simp = np.empty(len(Narray))\n",
    "for i in range(len(Narray)):\n",
    "    simp = simpson_int(fun_puntob,ll,ul,int(Narray[i]))\n",
    "    error_simp[i] = abs(simp-int_analitica)/int_analitica\n",
    "                          \n",
    "error_mont = np.empty(len(Narray))  \n",
    "for i in range(len(Narray)):\n",
    "    monte = montcarlo_int(fun_puntob,ll,ul,int(Narray[i]))\n",
    "    error_mont[i] = abs(monte-int_analitica)/int_analitica\n",
    "                          \n",
    "error_mean = np.empty(len(Narray))\n",
    "for i in range(len(Narray)):\n",
    "    medios = mean_value_int(fun_puntob,ll,ul,int(Narray[i]))\n",
    "    error_mean[i] = abs(medios-int_analitica)/int_analitica\n"
   ]
  },
  {
   "cell_type": "code",
   "execution_count": 48,
   "metadata": {},
   "outputs": [
    {
     "data": {
      "image/png": "[encoded data removed]",
      "text/plain": [
       "<Figure size 432x288 with 1 Axes>"
      ]
     },
     "metadata": {},
     "output_type": "display_data"
    }
   ],
   "source": [
    "plt.loglog(Narray,error_trape, label=\"Trapezoide\")\n",
    "plt.loglog(Narray,error_simp, label=\"Simpsonn\")\n",
    "plt.loglog(Narray,error_mont, label=\"Montecarlo\")\n",
    "plt.loglog(Narray,error_mean, label=\"Mean value\")\n",
    "plt.grid(True)\n",
    "plt.legend(loc = 0)\n",
    "plt.title(\"Error con los  métodos variando el número de puntos\")\n",
    "plt.ylabel(\"Error porcentua [%]\")\n",
    "plt.xlabel(\"Numero de puntos utilizados\")\n",
    "plt.savefig(\"MartinezDiego_int_error.pdf\",format=\"pdf\");"
   ]
  },
  {
   "cell_type": "markdown",
   "metadata": {},
   "source": [
    "### Punto 3 C"
   ]
  },
  {
   "cell_type": "code",
   "execution_count": 49,
   "metadata": {},
   "outputs": [
    {
     "name": "stdout",
     "output_type": "stream",
     "text": [
      "Metodo: Trapezoides, el valor de la integral es: inf\n",
      "Metodo: Simpsonn, el valor de la integral es: inf\n",
      "Metodo: Monte carlo, el valor de la integral es: 2.0001919209377648\n",
      "Metodo: Valor medio, el valor de la integral es: 2.130078919425751\n",
      "en este momento las integrales dan una respuesta erroada por la singularidad\n"
     ]
    },
    {
     "name": "stderr",
     "output_type": "stream",
     "text": [
      "c:\\users\\diegomartinez\\appdata\\local\\programs\\python\\python37-32\\lib\\site-packages\\ipykernel_launcher.py:2: RuntimeWarning: divide by zero encountered in double_scalars\n",
      "  \n",
      "c:\\users\\diegomartinez\\appdata\\local\\programs\\python\\python37-32\\lib\\site-packages\\ipykernel_launcher.py:2: RuntimeWarning: divide by zero encountered in true_divide\n",
      "  \n"
     ]
    }
   ],
   "source": [
    "def func_puntoc(x):\n",
    "    return 1.0/np.sqrt(np.sin(x))\n",
    "n = 1025\n",
    "ll = 0.0\n",
    "ul= 1.0\n",
    "x = np.linspace(ll,ul,n)\n",
    "#Trapezoide\n",
    "t = trapezoids_int(func_puntoc,ll,ul,n)\n",
    "print(\"Metodo: Trapezoides, el valor de la integral es:\",t)\n",
    "#--------------------------#\n",
    "# simpson\n",
    "s = simpson_int(func_puntoc,ll,ul,n)\n",
    "print(\"Metodo: Simpsonn, el valor de la integral es:\",s)\n",
    "#--------------------------#\n",
    "#Montecarlo\n",
    "m = montcarlo_int(func_puntoc,ll,ul,n)\n",
    "print(\"Metodo: Monte carlo, el valor de la integral es:\",m)\n",
    "#--------------------------#\n",
    "#Valor medio\n",
    "vm = mean_value_int(func_puntoc,ll,ul,n)\n",
    "print(\"Metodo: Valor medio, el valor de la integral es:\",vm)\n",
    "print(\"en este momento las integrales dan una respuesta erroada por la singularidad\")"
   ]
  },
  {
   "cell_type": "code",
   "execution_count": 50,
   "metadata": {},
   "outputs": [
    {
     "name": "stdout",
     "output_type": "stream",
     "text": [
      "El nuevo valor de la integral usando el metodo de Simpson cambiando infinito por 10**6 el valor de la integral es: 327.1976777800197\n"
     ]
    },
    {
     "name": "stderr",
     "output_type": "stream",
     "text": [
      "c:\\users\\diegomartinez\\appdata\\local\\programs\\python\\python37-32\\lib\\site-packages\\ipykernel_launcher.py:6: RuntimeWarning: divide by zero encountered in double_scalars\n",
      "  \n",
      "c:\\users\\diegomartinez\\appdata\\local\\programs\\python\\python37-32\\lib\\site-packages\\ipykernel_launcher.py:6: RuntimeWarning: divide by zero encountered in true_divide\n",
      "  \n"
     ]
    }
   ],
   "source": [
    "#rimera forma para corregir la singularidad.cambiando infinito por 10**6\n",
    "n = 1025\n",
    "ll = 0.0\n",
    "ul= 1.0\n",
    "def func_puntoc_op1(x):\n",
    "    func = 1.0/np.sqrt(np.sin(x))\n",
    "    if(type(x) == list or type(x)==np.ndarray):\n",
    "        if(len(x[np.where(x==0)])!= 0):\n",
    "            func[np.where(x==0.0)]=10**6\n",
    "    else:\n",
    "            if(x==0):\n",
    "                func = 10**6\n",
    "    return func\n",
    "sim = simpson_int(func_puntoc_op1,ll,ul,n)\n",
    "print(\"El nuevo valor de la integral usando el metodo de Simpson cambiando infinito por 10**6 el valor de la integral es:\",sim)"
   ]
  },
  {
   "cell_type": "code",
   "execution_count": 51,
   "metadata": {},
   "outputs": [
    {
     "name": "stdout",
     "output_type": "stream",
     "text": [
      "El nuevo valor de la integral usando el metodo de Simpson evaluando la funcion en 10**6 y noen cero el valor de la integral es 2.319582813891773\n"
     ]
    }
   ],
   "source": [
    "#segunda forma para corregir la singularidad.cambiando cero por 10**6\n",
    "def func_puntoc(x):\n",
    "    return 1.0/np.sqrt(np.sin(x))\n",
    "n = 1025\n",
    "ll = 10**-6\n",
    "ul= 1.0\n",
    "x = np.linspace(ll,ul,n)\n",
    "# simpson\n",
    "s = simpson_int(func_puntoc,ll,ul,n)\n",
    "print(\"El nuevo valor de la integral usando el metodo de Simpson evaluando la funcion en 10**6 y noen cero el valor de la integral es\",s)"
   ]
  },
  {
   "cell_type": "code",
   "execution_count": 52,
   "metadata": {},
   "outputs": [
    {
     "name": "stdout",
     "output_type": "stream",
     "text": [
      "restando la singularidad el resultado es 2.034688188940724\n"
     ]
    },
    {
     "name": "stderr",
     "output_type": "stream",
     "text": [
      "c:\\users\\diegomartinez\\appdata\\local\\programs\\python\\python37-32\\lib\\site-packages\\ipykernel_launcher.py:7: RuntimeWarning: divide by zero encountered in double_scalars\n",
      "  import sys\n",
      "c:\\users\\diegomartinez\\appdata\\local\\programs\\python\\python37-32\\lib\\site-packages\\ipykernel_launcher.py:7: RuntimeWarning: invalid value encountered in double_scalars\n",
      "  import sys\n",
      "c:\\users\\diegomartinez\\appdata\\local\\programs\\python\\python37-32\\lib\\site-packages\\ipykernel_launcher.py:7: RuntimeWarning: divide by zero encountered in true_divide\n",
      "  import sys\n",
      "c:\\users\\diegomartinez\\appdata\\local\\programs\\python\\python37-32\\lib\\site-packages\\ipykernel_launcher.py:7: RuntimeWarning: invalid value encountered in subtract\n",
      "  import sys\n"
     ]
    }
   ],
   "source": [
    "#tercera forma para corregir la singularidad.restando la singularidad.\n",
    "n = 1025\n",
    "ll = 0\n",
    "ul= 1.0\n",
    "x = np.linspace(ll,ul,n)\n",
    "def func_punto3_restando(x):\n",
    "    func = (1/np.sqrt(np.sin(x)))-(1/np.sqrt(x))\n",
    "    if(type(x)==np.ndarray):\n",
    "        func[0] = 0\n",
    "    else:\n",
    "        func  = 0\n",
    "    return func\n",
    "\n",
    "Integralboba = 2*(np.sqrt(1)-np.sqrt(0))\n",
    "valor_de_la_integral = 2.03480532\n",
    "\n",
    "\n",
    "sasas = simpson_int(func_punto3_restando,ll,ul,n) + Integralboba\n",
    "print(\"restando la singularidad el resultado es\",sasas)\n",
    "error_met3= abs(sasas - valor_de_la_integral)/valor_de_la_integral*100"
   ]
  },
  {
   "cell_type": "code",
   "execution_count": 53,
   "metadata": {},
   "outputs": [
    {
     "name": "stdout",
     "output_type": "stream",
     "text": [
      "El método que es mas cercano al valor de la integral es el método 3, la resta de la singularidad, con un error de: 0.005756376697295004\n"
     ]
    }
   ],
   "source": [
    "print(\"El método que es mas cercano al valor de la integral es el método 3, la resta de la singularidad, con un error de:\" , error_met3)"
   ]
  },
  {
   "cell_type": "code",
   "execution_count": null,
   "metadata": {},
   "outputs": [],
   "source": []
  }
 ],
 "metadata": {
  "kernelspec": {
   "display_name": "Python 3",
   "language": "python",
   "name": "python3"
  },
  "language_info": {
   "codemirror_mode": {
    "name": "ipython",
    "version": 3
   },
   "file_extension": ".py",
   "mimetype": "text/x-python",
   "name": "python",
   "nbconvert_exporter": "python",
   "pygments_lexer": "ipython3",
   "version": "3.7.0"
  }
 },
 "nbformat": 4,
 "nbformat_minor": 2
}
