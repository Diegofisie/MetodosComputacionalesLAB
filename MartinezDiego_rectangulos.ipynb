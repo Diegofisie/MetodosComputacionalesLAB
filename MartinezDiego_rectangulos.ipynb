{
 "cells": [
  {
   "cell_type": "code",
   "execution_count": 6,
   "metadata": {},
   "outputs": [],
   "source": [
    "import numpy as np"
   ]
  },
  {
   "cell_type": "code",
   "execution_count": 13,
   "metadata": {},
   "outputs": [],
   "source": [
    "def rectangulos_intersectados(x1,y1,x2,y2,b1,d1,b2,d2):\n",
    "    #la cordenada en la cual los re tangulos se intersectarán formando un rectangulo entre ellos\n",
    "    rectangulos = np.zeros([2])\n",
    "    # booleano para describir si hay intersección o no\n",
    "    interseccion = False\n",
    "    if( abs(y1-y2) <= (b1/2 + b2/2) and abs(x1-x2) <= (d1/2 + d2/2)):\n",
    "        interseccion = True\n",
    "        rectangulos[0] = min(abs((x2+d2/2)-(x1-d1/2)),abs((x1+d1/2)-(x2-d2/2)))\n",
    "        rectangulos[1] = min(abs((y2+b2/2)-(y1-b1/2)),abs((y1+b1/2)-(y2-b2/2)))\n",
    "        \n",
    "        if( x2+d2/2 <= x1+d1/2 and x2-d2/2 >= x1-d1/2):\n",
    "            rectangulos[0] = d2\n",
    "            \n",
    "        elif (x2-d2/2 <= x1-d1/2 and x2+d2/2 >= x1+d1/2):\n",
    "            rectangulos[0] = d1\n",
    "            \n",
    "        elif( y2+b2/2 <= y1+b1/2 and y2-b2/2 >= y1-b1/2):\n",
    "            rectangulos[1] = b2\n",
    "            \n",
    "        elif(y2-b2/2 <= y1-b1/2 and y2+b2/2 >= y1+b1/2):\n",
    "            rectangulos[1] = a11\n",
    "#retorna si hay intersección y las cordenadas en las ciales hay\n",
    "    return interseccion,rectangulos\n",
    "#FUncion para saber si los rectangulos se tocan en un solo punto. En este caso las esquinas.\n",
    "def rectangulos_extremos(x1,y1,x2,y2,b1,d1,b2,d2):\n",
    "#booleano para saber si hay intersección\n",
    "    interseccion_extrempos = False\n",
    "#array con las coordenadas en donde se tocan.\n",
    "    puntos_se_tocan = np.zeros([2])\n",
    "    if((x1+d1/2) == (x2-d2/2) and (y1-b1/2.0) == (y2+b2/2)):\n",
    "        interseccion_extrempos = True\n",
    "        puntos_se_tocan[0] = (x1+d1/2)\n",
    "        puntos_se_tocan[1] = (y1-b1/2)\n",
    "    elif((x1-d1/2) == (x2+d2/2) and (y1+b1/2) == (y2-b2/2)):\n",
    "        interseccion_extrempos = True\n",
    "        puntos_se_tocan[0] = (x1-d1/2)\n",
    "        puntos_se_tocan[1] = (y1+b1/2)\n",
    "        \n",
    "    elif((x1+d1/2) == (x2-d2/2) and (y1+b1/2) == (y2-b2/2)):\n",
    "        interseccion_extrempos = True\n",
    "        puntos_se_tocan[0] = (x1+d1/2)\n",
    "        puntos_se_tocan[1] = (y1+b1/2)\n",
    "                \n",
    "    elif( (y1-b1/2) == (y2+b2/2) and (x1-d1/2) == (x2+d2/2)):\n",
    "        interseccion_extrempos = True\n",
    "        puntos_se_tocan[0] = (x1-d1/2)\n",
    "        puntos_se_tocan[1] = (y1-b1/2)\n",
    "        \n",
    "\n",
    "\n",
    "#restorna si hay una intersección de los rectangulos en un solo punto y la coordenada. \n",
    "    return interseccion_extrempos,puntos_se_tocan\n",
    "\n",
    "#Función para saber si los rctángulos se intesectan en la slineas verticales u horizontales\n",
    "def interseccion_lateral_horizontal(x1,y1,x2,y2,b1,d1,b2,d2):\n",
    "    interseccion_lados = False\n",
    "    coordenada = ['','']\n",
    "#para verificar la intersección de los rectangulos horizontamnte \n",
    "    if(abs(x1-x2) <= (d1/2+d2/2)):\n",
    "        if((y1+b1/2) == (y2-b2/2)):\n",
    "            coordenada[0] = \"Intersección Horizontal:\"\n",
    "            interseccion_lados = True\n",
    "            coordenada[1] = \"Y0:\"+str(y1+b1/2)\n",
    "        elif((y1-b1/2) == (y2+b2/2)):\n",
    "            coordenada[0] = \"intersección Hotizontal:\"\n",
    "            interseccion_lados = True\n",
    "            coordenada[1] = \"Y0:\"+str(y1-a1/2)\n",
    "#Para verificar si existe interseción de los resctangulos verticalmente\n",
    "    if(abs(y1-y2) <= (b1/2+b2/2)):\n",
    "        if((x1+d1/2) == (x2-d2/2)):\n",
    "            coordenada[0] = \"Intersección vertical\"\n",
    "            interseccion_lados = True\n",
    "            coordenada[1] = \"X0:\"+str(x1+d1/2)\n",
    "        elif((x1-d1/2) == (x2+d2/2)):\n",
    "            coordenada[0] = \"Interseccción vertical\"\n",
    "            interseccion_lados = True\n",
    "            coordenada[1] = \"X0:\"+str(x1-d1/2)\n",
    "#retorna si hay una intersección en algulo de los lados y la coordenada en la cual sucede.\n",
    "    return interseccion_lados, coordenada\n",
    "\n"
   ]
  },
  {
   "cell_type": "code",
   "execution_count": 14,
   "metadata": {},
   "outputs": [],
   "source": [
    "#Para retornar los valores de las coordenadas y las respuestas si los rectangulos se intersectan o no:\n",
    "def intersecciones_de_los_rectangulos(x1,y1,x2,y2,b1,d1,b2,d2):\n",
    "    rectangulo_nuevo = rectangulos_intersectados(x1,y1,x2,y2,b1,d1,b2,d2)\n",
    "    un_punto_rectangulo = rectangulos_extremos(x1,y1,x2,y2,b1,d1,b2,d2)\n",
    "    interseccion_de_rectas = interseccion_lateral_horizontal(x1,y1,x2,y2,b1,d1,b2,d2)\n",
    "    if rectangulo_nuevo[0]:\n",
    "        print (\"Los rectangulos se intersectan formando un rectangulo de lados X:\" + str(rectangulo_nuevo[1][0]) +\",Y:\" +str(rectangulo_nuevo[1][1]))\n",
    "    elif un_punto_rectangulo[0]:\n",
    "        print (\"Los rectangulos se tocan en un solo punto con coordenadas:\"+str(un_punto_rectangulo[1][0] +\",\"+str(un_punto_rectangulo[1][1])))\n",
    "    elif interseccion_de_rectas[0]:\n",
    "        print (\"los rectangulos se intersectan en una recta\" + str(interseccion_de_rectas[1][0]) + \"Con coordenadas\" + str(interseccion_de_rectas[1][1]))\n",
    "    else:\n",
    "        print (\"Los rectangulos no se intersectan :c\")"
   ]
  },
  {
   "cell_type": "code",
   "execution_count": 15,
   "metadata": {},
   "outputs": [
    {
     "name": "stdout",
     "output_type": "stream",
     "text": [
      "Los rectangulos se intersectan formando un rectangulo de lados X:5.0,Y:4.0\n"
     ]
    }
   ],
   "source": [
    "#prueba\n",
    "intersecciones_de_los_rectangulos(1,2,3,4,5,6,7,8)"
   ]
  },
  {
   "cell_type": "code",
   "execution_count": null,
   "metadata": {},
   "outputs": [],
   "source": []
  },
  {
   "cell_type": "code",
   "execution_count": null,
   "metadata": {},
   "outputs": [],
   "source": []
  },
  {
   "cell_type": "code",
   "execution_count": null,
   "metadata": {},
   "outputs": [],
   "source": []
  }
 ],
 "metadata": {
  "kernelspec": {
   "display_name": "Python 3",
   "language": "python",
   "name": "python3"
  },
  "language_info": {
   "codemirror_mode": {
    "name": "ipython",
    "version": 3
   },
   "file_extension": ".py",
   "mimetype": "text/x-python",
   "name": "python",
   "nbconvert_exporter": "python",
   "pygments_lexer": "ipython3",
   "version": "3.7.0"
  }
 },
 "nbformat": 4,
 "nbformat_minor": 2
}
