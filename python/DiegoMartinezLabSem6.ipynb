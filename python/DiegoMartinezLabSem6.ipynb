{
 "cells": [
  {
   "cell_type": "code",
   "execution_count": 60,
   "metadata": {
    "collapsed": false
   },
   "outputs": [
    {
     "name": "stdout",
     "output_type": "stream",
     "text": [
      "Populating the interactive namespace from numpy and matplotlib\n"
     ]
    },
    {
     "name": "stderr",
     "output_type": "stream",
     "text": [
      "WARNING: pylab import has clobbered these variables: ['show_config', 'log2', 'arccos', 'arctanh', 'fft', 'arcsin', 'sqrt', '__version__', 'power', 'log', 'log10', 'test']\n",
      "`%matplotlib` prevents importing * from pylab and numpy\n"
     ]
    }
   ],
   "source": [
    "import numpy as np\n",
    "import matplotlib.pyplot as plt\n",
    "import scipy.linalg as sp\n",
    "import numpy.linalg as npl\n",
    "%pylab inline"
   ]
  },
  {
   "cell_type": "code",
   "execution_count": 61,
   "metadata": {
    "collapsed": false
   },
   "outputs": [
    {
     "data": {
      "text/plain": [
       "array([[ 0.,  0.,  0.,  0.],\n",
       "       [ 0., -2.,  1.,  0.],\n",
       "       [ 0.,  1., -2.,  0.],\n",
       "       [ 0.,  0.,  0., -4.]])"
      ]
     },
     "execution_count": 61,
     "metadata": {},
     "output_type": "execute_result"
    }
   ],
   "source": [
    "########################### Punto 1##########################################################\n",
    "check = 5.0 #puntos\n",
    "########################### Punto 2##########################################################\n",
    "hamiltoniano = np.array([[0,0,0,0],[0,-2.0,1.0,0],[0,1.0,-2.0,0],[0,0,0,-4.0]])\n",
    "hamiltoniano\n"
   ]
  },
  {
   "cell_type": "code",
   "execution_count": 62,
   "metadata": {
    "collapsed": false
   },
   "outputs": [],
   "source": [
    "########################### Punto 3##########################################################\n",
    "T = 1\n",
    "N = 10000.0\n",
    "t = T/N\n",
    "U = sp.expm(hamiltoniano*-1j*t) "
   ]
  },
  {
   "cell_type": "code",
   "execution_count": 63,
   "metadata": {
    "collapsed": false
   },
   "outputs": [
    {
     "data": {
      "text/plain": [
       "array([[ 0.        ],\n",
       "       [ 0.70710678],\n",
       "       [ 0.70710678],\n",
       "       [ 0.        ]])"
      ]
     },
     "execution_count": 63,
     "metadata": {},
     "output_type": "execute_result"
    }
   ],
   "source": [
    "########################### Punto 4##########################################################\n",
    "unosbreraizdedos = 1/np.sqrt(2)\n",
    "x_vec = unosbreraizdedos*np.array([[0],[1],[1],[0]])\n",
    "x_vec"
   ]
  },
  {
   "cell_type": "code",
   "execution_count": 69,
   "metadata": {
    "collapsed": false
   },
   "outputs": [
    {
     "data": {
      "text/plain": [
       "array([[ 0.00000000+0.j        ],\n",
       "       [ 0.38205142-0.59500984j],\n",
       "       [ 0.38205142-0.59500984j],\n",
       "       [-0.00000000+0.j        ]])"
      ]
     },
     "execution_count": 69,
     "metadata": {},
     "output_type": "execute_result"
    }
   ],
   "source": [
    "########################### Punto 5##########################################################\n",
    "A = np.linalg.matrix_power(U,int(N))\n",
    "x_0 = np.linalg.solve(A,x_vec)\n",
    "x_0"
   ]
  },
  {
   "cell_type": "code",
   "execution_count": 72,
   "metadata": {
    "collapsed": false
   },
   "outputs": [
    {
     "data": {
      "text/plain": [
       "array([[ 0.00000000+0.j],\n",
       "       [ 0.70710678+0.j],\n",
       "       [ 0.70710678+0.j],\n",
       "       [ 0.00000000+0.j]])"
      ]
     },
     "execution_count": 72,
     "metadata": {},
     "output_type": "execute_result"
    }
   ],
   "source": [
    "########################### Punto 6##########################################################\n",
    "sol =np.matmul(A,x_0)\n",
    "sol"
   ]
  },
  {
   "cell_type": "code",
   "execution_count": null,
   "metadata": {
    "collapsed": true
   },
   "outputs": [],
   "source": []
  },
  {
   "cell_type": "code",
   "execution_count": null,
   "metadata": {
    "collapsed": true
   },
   "outputs": [],
   "source": []
  },
  {
   "cell_type": "code",
   "execution_count": null,
   "metadata": {
    "collapsed": true
   },
   "outputs": [],
   "source": []
  }
 ],
 "metadata": {
  "kernelspec": {
   "display_name": "Python 2",
   "language": "python",
   "name": "python2"
  },
  "language_info": {
   "codemirror_mode": {
    "name": "ipython",
    "version": 2
   },
   "file_extension": ".py",
   "mimetype": "text/x-python",
   "name": "python",
   "nbconvert_exporter": "python",
   "pygments_lexer": "ipython2",
   "version": "2.7.12"
  }
 },
 "nbformat": 4,
 "nbformat_minor": 0
}
