{
 "cells": [
  {
   "cell_type": "code",
   "execution_count": 100,
   "metadata": {
    "collapsed": false
   },
   "outputs": [],
   "source": [
    "import numpy as np\n",
    "import matplotlib.pyplot as plt"
   ]
  },
  {
   "cell_type": "markdown",
   "metadata": {},
   "source": [
    "#### Escriba un programa que encentre los ceros de f(x) en un intervalo dado "
   ]
  },
  {
   "cell_type": "code",
   "execution_count": 101,
   "metadata": {
    "collapsed": false
   },
   "outputs": [],
   "source": [
    "a = 0.5\n",
    "def mi_func(x):\n",
    "    return np.sin(x)*np.exp(-a*x)\n",
    "\n",
    "def mi_func_prime(x):\n",
    "    h = 0.0001\n",
    "    return (mi_func(x+h) - mi_func(x-h))/(2*h)"
   ]
  },
  {
   "cell_type": "markdown",
   "metadata": {},
   "source": [
    "#### Newton Raphson"
   ]
  },
  {
   "cell_type": "code",
   "execution_count": 150,
   "metadata": {
    "collapsed": false
   },
   "outputs": [],
   "source": [
    "def newton(x,n,e):\n",
    "    while np.abs(mi_func(x))>e:\n",
    "        for i in range(n,error):\n",
    "            if mi_func_prime == 0:\n",
    "                x = x + np.pi/1000\n",
    "            else:\n",
    "                x = x - mi_func(x)/mi_func_prime(x)\n",
    "        return x"
   ]
  },
  {
   "cell_type": "code",
   "execution_count": 157,
   "metadata": {
    "collapsed": false
   },
   "outputs": [],
   "source": [
    "def ceros(errores,a,b,e):\n",
    "    errores = []\n",
    "    x = a\n",
    "    while x < b:\n",
    "        primer_cero = newton(x,n,e) \n",
    "        if primer_cero < a or primer_cero > b:\n",
    "            x = x + 0.01\n",
    "        else:\n",
    "            errores.append(primer_cero)\n",
    "            ceros(errores,error,1.0,primer_cero-np.pi-0.02)            "
   ]
  },
  {
   "cell_type": "code",
   "execution_count": 158,
   "metadata": {
    "collapsed": false
   },
   "outputs": [
    {
     "name": "stdout",
     "output_type": "stream",
     "text": [
      "6.28318530718\n",
      "[]\n"
     ]
    }
   ],
   "source": [
    "def error_entre_intervalo(errores,a,error):\n",
    "    for i in eerores:\n",
    "        if np.abs(i-a) < error:\n",
    "            return True\n",
    "    return False\n",
    "print newton(5.0,10,0.01)\n",
    "ceros(errores,error,1,0.001)\n",
    "print errores"
   ]
  },
  {
   "cell_type": "code",
   "execution_count": null,
   "metadata": {
    "collapsed": true
   },
   "outputs": [],
   "source": []
  },
  {
   "cell_type": "code",
   "execution_count": null,
   "metadata": {
    "collapsed": true
   },
   "outputs": [],
   "source": []
  }
 ],
 "metadata": {
  "kernelspec": {
   "display_name": "Python 2",
   "language": "python",
   "name": "python2"
  },
  "language_info": {
   "codemirror_mode": {
    "name": "ipython",
    "version": 2
   },
   "file_extension": ".py",
   "mimetype": "text/x-python",
   "name": "python",
   "nbconvert_exporter": "python",
   "pygments_lexer": "ipython2",
   "version": "2.7.12"
  }
 },
 "nbformat": 4,
 "nbformat_minor": 0
}
