{
 "cells": [
  {
   "cell_type": "code",
   "execution_count": 1,
   "metadata": {
    "collapsed": true
   },
   "outputs": [],
   "source": [
    "import numpy as np\n",
    "import matplotlib.pyplot as plt"
   ]
  },
  {
   "cell_type": "code",
   "execution_count": 80,
   "metadata": {
    "collapsed": false
   },
   "outputs": [],
   "source": [
    "def gauss_red(matrix):\n",
    "    filas = len(matrix)\n",
    "    col = filas + 1\n",
    "    for D in range(filas):\n",
    "        for I in range(D+1, filas):\n",
    "            if matrix[D][D] != 0:\n",
    "                break\n",
    "            matrix[[D,I]] = matrix[[I,D]]\n",
    "            if matrix[D,D] != 0.0:\n",
    "                matrix[D] = matrix[D]/float(matrix[D,D])\n",
    "        for E in range(filas):\n",
    "            if E != D:\n",
    "                matrix[E] = matrix[E]-matrix[D]*matrix[E,D]\n",
    "    G = matrix\n",
    "    return G\n",
    "            "
   ]
  },
  {
   "cell_type": "code",
   "execution_count": 84,
   "metadata": {
    "collapsed": false
   },
   "outputs": [
    {
     "name": "stdout",
     "output_type": "stream",
     "text": [
      "[[ 1  0  0 11]\n",
      " [ 0  1  0 -3]\n",
      " [ 0  0  1  1]]\n"
     ]
    }
   ],
   "source": [
    "matrix = np.array([[1,2,2,7],[1,2,3,8],[1,1,1,9]])\n",
    "print gauss_red(matrix)"
   ]
  },
  {
   "cell_type": "code",
   "execution_count": null,
   "metadata": {
    "collapsed": true
   },
   "outputs": [],
   "source": []
  },
  {
   "cell_type": "code",
   "execution_count": null,
   "metadata": {
    "collapsed": true
   },
   "outputs": [],
   "source": []
  }
 ],
 "metadata": {
  "kernelspec": {
   "display_name": "Python 2",
   "language": "python",
   "name": "python2"
  },
  "language_info": {
   "codemirror_mode": {
    "name": "ipython",
    "version": 2
   },
   "file_extension": ".py",
   "mimetype": "text/x-python",
   "name": "python",
   "nbconvert_exporter": "python",
   "pygments_lexer": "ipython2",
   "version": "2.7.12"
  }
 },
 "nbformat": 4,
 "nbformat_minor": 0
}
